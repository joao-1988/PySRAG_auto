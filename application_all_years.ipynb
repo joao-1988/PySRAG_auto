{
  "cells": [
    {
      "cell_type": "markdown",
      "id": "0nPPE4r-CHHT",
      "metadata": {
        "id": "0nPPE4r-CHHT"
      },
      "source": [
        "# Carregar pacotes"
      ]
    },
    {
      "cell_type": "code",
      "execution_count": 1,
      "id": "_tKHblHpwDLY",
      "metadata": {
        "colab": {
          "base_uri": "https://localhost:8080/"
        },
        "id": "_tKHblHpwDLY",
        "outputId": "83bd5fa5-2ba9-423d-d4e5-50b185d43d6f"
      },
      "outputs": [
        {
          "name": "stdout",
          "output_type": "stream",
          "text": [
            "Requirement already satisfied: PySRAG==0.1.6 in c:\\users\\joao1\\appdata\\local\\programs\\python\\python39\\lib\\site-packages (0.1.6)\n",
            "Requirement already satisfied: numpy in c:\\users\\joao1\\appdata\\local\\programs\\python\\python39\\lib\\site-packages (from PySRAG==0.1.6) (1.23.5)\n",
            "Requirement already satisfied: pandas in c:\\users\\joao1\\appdata\\local\\programs\\python\\python39\\lib\\site-packages (from PySRAG==0.1.6) (1.5.3)\n",
            "Requirement already satisfied: scikit-learn in c:\\users\\joao1\\appdata\\local\\programs\\python\\python39\\lib\\site-packages (from PySRAG==0.1.6) (1.2.2)\n",
            "Requirement already satisfied: lightgbm in c:\\users\\joao1\\appdata\\local\\programs\\python\\python39\\lib\\site-packages (from PySRAG==0.1.6) (4.0.0)\n",
            "Requirement already satisfied: scipy in c:\\users\\joao1\\appdata\\local\\programs\\python\\python39\\lib\\site-packages (from lightgbm->PySRAG==0.1.6) (1.11.4)\n",
            "Requirement already satisfied: python-dateutil>=2.8.1 in c:\\users\\joao1\\appdata\\local\\programs\\python\\python39\\lib\\site-packages (from pandas->PySRAG==0.1.6) (2.8.2)\n",
            "Requirement already satisfied: pytz>=2020.1 in c:\\users\\joao1\\appdata\\local\\programs\\python\\python39\\lib\\site-packages (from pandas->PySRAG==0.1.6) (2023.3.post1)\n",
            "Requirement already satisfied: joblib>=1.1.1 in c:\\users\\joao1\\appdata\\local\\programs\\python\\python39\\lib\\site-packages (from scikit-learn->PySRAG==0.1.6) (1.3.2)\n",
            "Requirement already satisfied: threadpoolctl>=2.0.0 in c:\\users\\joao1\\appdata\\local\\programs\\python\\python39\\lib\\site-packages (from scikit-learn->PySRAG==0.1.6) (3.2.0)\n",
            "Requirement already satisfied: six>=1.5 in c:\\users\\joao1\\appdata\\local\\programs\\python\\python39\\lib\\site-packages (from python-dateutil>=2.8.1->pandas->PySRAG==0.1.6) (1.16.0)\n",
            "Note: you may need to restart the kernel to use updated packages.\n"
          ]
        },
        {
          "name": "stderr",
          "output_type": "stream",
          "text": [
            "\n",
            "[notice] A new release of pip is available: 24.0 -> 24.1.2\n",
            "[notice] To update, run: python.exe -m pip install --upgrade pip\n"
          ]
        }
      ],
      "source": [
        "pip install PySRAG==0.1.6"
      ]
    },
    {
      "cell_type": "code",
      "execution_count": 2,
      "id": "tR2EjxRlCHHT",
      "metadata": {
        "id": "tR2EjxRlCHHT"
      },
      "outputs": [],
      "source": [
        "import os\n",
        "import numpy as np\n",
        "import pandas as pd\n",
        "from pysrag.data import SRAG\n",
        "from pysrag.model import GBMTrainer\n",
        "from joblib import dump, load"
      ]
    },
    {
      "cell_type": "markdown",
      "id": "TMiUxT7WB3qf",
      "metadata": {
        "id": "TMiUxT7WB3qf"
      },
      "source": [
        "# Treinando com mais de 1 arquivo (2 anos ou mais)"
      ]
    },
    {
      "cell_type": "code",
      "execution_count": 3,
      "id": "i2i7796kB5lG",
      "metadata": {
        "id": "i2i7796kB5lG"
      },
      "outputs": [],
      "source": [
        "path='./../bases'\n",
        "\n",
        "cols_X = ['REGIAO_LATITUDE', 'REGIAO_LONGITUDE', 'UF_LATITUDE'\n",
        "        , 'UF_LONGITUDE', 'LATITUDE', 'LONGITUDE', 'POPULACAO', 'IDADE_ANO'\n",
        "        , 'ANO_SEM_SIN_PRI']\n",
        "col_y = ['POS_SARS2', 'POS_FLUA', 'POS_FLUB', 'POS_VSR',\n",
        "         'POS_PARA1', 'POS_PARA2', 'POS_PARA3', 'POS_PARA4',\n",
        "         'POS_ADENO', 'POS_METAP', 'POS_BOCA', 'POS_RINO', 'POS_OUTROS']\n",
        "demais_virus = ''"
      ]
    },
    {
      "cell_type": "markdown",
      "id": "pQ-D8_7DvBoy",
      "metadata": {
        "colab": {
          "base_uri": "https://localhost:8080/"
        },
        "id": "pQ-D8_7DvBoy",
        "outputId": "6c6f01a4-cfc9-4344-e4e0-082b2dd38dc4"
      },
      "source": [
        "all_files = os.listdir(path)\n",
        "\n",
        "from datetime import datetime\n",
        "\n",
        "def get_latest_data(all_files,string_year):\n",
        "  format_string = '%d-%m-%Y'\n",
        "  list_files = [i.replace(f'{string_year}-','').split('.')[0] for i in all_files if i[:8] == string_year]\n",
        "  latest_data = max(list_files,key=lambda x: datetime.strptime(x, format_string))\n",
        "  string_latest_data = string_year+'-'+latest_data+'.csv'\n",
        "  return string_latest_data\n",
        "\n",
        "influd22 = get_latest_data(all_files,'INFLUD22')\n",
        "influd23 = get_latest_data(all_files,'INFLUD23')\n",
        "influd24 = get_latest_data(all_files,'INFLUD24')\n",
        "\n",
        "print(influd22, influd23, influd24)"
      ]
    },
    {
      "cell_type": "markdown",
      "id": "gYnu-ezAAsWO",
      "metadata": {
        "id": "gYnu-ezAAsWO"
      },
      "source": [
        "# Old Filters True"
      ]
    },
    {
      "cell_type": "code",
      "execution_count": 4,
      "id": "sqUfJt1pCFcX",
      "metadata": {
        "colab": {
          "base_uri": "https://localhost:8080/"
        },
        "id": "sqUfJt1pCFcX",
        "outputId": "ed1b97e3-3ead-4fa5-b79f-97ab5733acfa"
      },
      "outputs": [
        {
          "name": "stdout",
          "output_type": "stream",
          "text": [
            "https://s3.sa-east-1.amazonaws.com/ckan.saude.gov.br/SRAG/2022/INFLUD22-03-04-2023.csv\n",
            "https://s3.sa-east-1.amazonaws.com/ckan.saude.gov.br/SRAG/2023/INFLUD23-15-07-2024.csv\n",
            "https://s3.sa-east-1.amazonaws.com/ckan.saude.gov.br/SRAG/2024/INFLUD24-15-07-2024.csv\n",
            "CPU times: total: 13 s\n",
            "Wall time: 46.7 s\n"
          ]
        }
      ],
      "source": [
        "%%time\n",
        "\n",
        "#list_filepath = [os.path.join(path,i) for i in [influd22,influd23,influd24]]\n",
        "list_filepath = ['https://s3.sa-east-1.amazonaws.com/ckan.saude.gov.br/SRAG/2022/INFLUD22-03-04-2023.csv' \n",
        ",'https://s3.sa-east-1.amazonaws.com/ckan.saude.gov.br/SRAG/2023/INFLUD23-15-07-2024.csv'\n",
        ",'https://s3.sa-east-1.amazonaws.com/ckan.saude.gov.br/SRAG/2024/INFLUD24-15-07-2024.csv']\n",
        "\n",
        "list_X = []\n",
        "list_y = []\n",
        "list_weeks = []\n",
        "list_train = []\n",
        "list_training_weeks = []\n",
        "\n",
        "for filepath in list_filepath:\n",
        "  print(filepath)\n",
        "  srag = SRAG(filepath,old_filter=True)\n",
        "  X_aux, y_aux = srag.generate_training_data(None, 'multiclass', cols_X, col_y, demais_virus)\n",
        "  list_X.append(X_aux)\n",
        "  list_y.append(y_aux)\n",
        "  list_training_weeks.append(srag.generate_training_weeks())\n",
        "\n",
        "  weeks = np.unique(X_aux['ANO_SEM_SIN_PRI'])\n",
        "  train = srag.get_start_day_of_week(0)\n",
        "  list_train.append(train)\n",
        "  list_weeks.append(weeks)\n",
        "\n",
        "X = pd.concat(list_X).reset_index(drop=True)\n",
        "y = pd.concat(list_y).reset_index(drop=True)\n",
        "df_training_weeks = pd.concat(list_training_weeks).reset_index(drop=True)"
      ]
    },
    {
      "cell_type": "code",
      "execution_count": 5,
      "id": "vuO1kInUCquG",
      "metadata": {
        "colab": {
          "base_uri": "https://localhost:8080/",
          "height": 144
        },
        "id": "vuO1kInUCquG",
        "outputId": "7f333a4f-3c0f-401d-8349-53b31fdf6c64"
      },
      "outputs": [
        {
          "name": "stdout",
          "output_type": "stream",
          "text": [
            "CPU times: total: 0 ns\n",
            "Wall time: 0 ns\n"
          ]
        },
        {
          "data": {
            "text/html": [
              "<style>#sk-container-id-1 {color: black;background-color: white;}#sk-container-id-1 pre{padding: 0;}#sk-container-id-1 div.sk-toggleable {background-color: white;}#sk-container-id-1 label.sk-toggleable__label {cursor: pointer;display: block;width: 100%;margin-bottom: 0;padding: 0.3em;box-sizing: border-box;text-align: center;}#sk-container-id-1 label.sk-toggleable__label-arrow:before {content: \"▸\";float: left;margin-right: 0.25em;color: #696969;}#sk-container-id-1 label.sk-toggleable__label-arrow:hover:before {color: black;}#sk-container-id-1 div.sk-estimator:hover label.sk-toggleable__label-arrow:before {color: black;}#sk-container-id-1 div.sk-toggleable__content {max-height: 0;max-width: 0;overflow: hidden;text-align: left;background-color: #f0f8ff;}#sk-container-id-1 div.sk-toggleable__content pre {margin: 0.2em;color: black;border-radius: 0.25em;background-color: #f0f8ff;}#sk-container-id-1 input.sk-toggleable__control:checked~div.sk-toggleable__content {max-height: 200px;max-width: 100%;overflow: auto;}#sk-container-id-1 input.sk-toggleable__control:checked~label.sk-toggleable__label-arrow:before {content: \"▾\";}#sk-container-id-1 div.sk-estimator input.sk-toggleable__control:checked~label.sk-toggleable__label {background-color: #d4ebff;}#sk-container-id-1 div.sk-label input.sk-toggleable__control:checked~label.sk-toggleable__label {background-color: #d4ebff;}#sk-container-id-1 input.sk-hidden--visually {border: 0;clip: rect(1px 1px 1px 1px);clip: rect(1px, 1px, 1px, 1px);height: 1px;margin: -1px;overflow: hidden;padding: 0;position: absolute;width: 1px;}#sk-container-id-1 div.sk-estimator {font-family: monospace;background-color: #f0f8ff;border: 1px dotted black;border-radius: 0.25em;box-sizing: border-box;margin-bottom: 0.5em;}#sk-container-id-1 div.sk-estimator:hover {background-color: #d4ebff;}#sk-container-id-1 div.sk-parallel-item::after {content: \"\";width: 100%;border-bottom: 1px solid gray;flex-grow: 1;}#sk-container-id-1 div.sk-label:hover label.sk-toggleable__label {background-color: #d4ebff;}#sk-container-id-1 div.sk-serial::before {content: \"\";position: absolute;border-left: 1px solid gray;box-sizing: border-box;top: 0;bottom: 0;left: 50%;z-index: 0;}#sk-container-id-1 div.sk-serial {display: flex;flex-direction: column;align-items: center;background-color: white;padding-right: 0.2em;padding-left: 0.2em;position: relative;}#sk-container-id-1 div.sk-item {position: relative;z-index: 1;}#sk-container-id-1 div.sk-parallel {display: flex;align-items: stretch;justify-content: center;background-color: white;position: relative;}#sk-container-id-1 div.sk-item::before, #sk-container-id-1 div.sk-parallel-item::before {content: \"\";position: absolute;border-left: 1px solid gray;box-sizing: border-box;top: 0;bottom: 0;left: 50%;z-index: -1;}#sk-container-id-1 div.sk-parallel-item {display: flex;flex-direction: column;z-index: 1;position: relative;background-color: white;}#sk-container-id-1 div.sk-parallel-item:first-child::after {align-self: flex-end;width: 50%;}#sk-container-id-1 div.sk-parallel-item:last-child::after {align-self: flex-start;width: 50%;}#sk-container-id-1 div.sk-parallel-item:only-child::after {width: 0;}#sk-container-id-1 div.sk-dashed-wrapped {border: 1px dashed gray;margin: 0 0.4em 0.5em 0.4em;box-sizing: border-box;padding-bottom: 0.4em;background-color: white;}#sk-container-id-1 div.sk-label label {font-family: monospace;font-weight: bold;display: inline-block;line-height: 1.2em;}#sk-container-id-1 div.sk-label-container {text-align: center;}#sk-container-id-1 div.sk-container {/* jupyter's `normalize.less` sets `[hidden] { display: none; }` but bootstrap.min.css set `[hidden] { display: none !important; }` so we also need the `!important` here to be able to override the default hidden behavior on the sphinx rendered scikit-learn.org. See: https://github.com/scikit-learn/scikit-learn/issues/21755 */display: inline-block !important;position: relative;}#sk-container-id-1 div.sk-text-repr-fallback {display: none;}</style><div id=\"sk-container-id-1\" class=\"sk-top-container\"><div class=\"sk-text-repr-fallback\"><pre>LGBMClassifier(feature_fraction=0.8, max_depth=3, min_data_in_bin=10,\n",
              "               min_data_in_leaf=30, n_estimators=5000, n_jobs=0, num_leaves=10,\n",
              "               objective=&#x27;multiclass&#x27;, random_state=0, verbose=-1)</pre><b>In a Jupyter environment, please rerun this cell to show the HTML representation or trust the notebook. <br />On GitHub, the HTML representation is unable to render, please try loading this page with nbviewer.org.</b></div><div class=\"sk-container\" hidden><div class=\"sk-item\"><div class=\"sk-estimator sk-toggleable\"><input class=\"sk-toggleable__control sk-hidden--visually\" id=\"sk-estimator-id-1\" type=\"checkbox\" checked><label for=\"sk-estimator-id-1\" class=\"sk-toggleable__label sk-toggleable__label-arrow\">LGBMClassifier</label><div class=\"sk-toggleable__content\"><pre>LGBMClassifier(feature_fraction=0.8, max_depth=3, min_data_in_bin=10,\n",
              "               min_data_in_leaf=30, n_estimators=5000, n_jobs=0, num_leaves=10,\n",
              "               objective=&#x27;multiclass&#x27;, random_state=0, verbose=-1)</pre></div></div></div></div></div>"
            ],
            "text/plain": [
              "LGBMClassifier(feature_fraction=0.8, max_depth=3, min_data_in_bin=10,\n",
              "               min_data_in_leaf=30, n_estimators=5000, n_jobs=0, num_leaves=10,\n",
              "               objective='multiclass', random_state=0, verbose=-1)"
            ]
          },
          "execution_count": 5,
          "metadata": {},
          "output_type": "execute_result"
        }
      ],
      "source": [
        "%time\n",
        "trainer = GBMTrainer(objective='multiclass', eval_metric='multi_logloss')\n",
        "trainer.fit(X, y)"
      ]
    },
    {
      "cell_type": "code",
      "execution_count": 6,
      "id": "WhveQ-_qCvQF",
      "metadata": {
        "id": "WhveQ-_qCvQF"
      },
      "outputs": [],
      "source": [
        "model = {'filename': list_filepath,\n",
        "         'weeks': list_weeks,\n",
        "         'train': list_train,\n",
        "          'virus': trainer.model.classes_,\n",
        "          'df_training_weeks': df_training_weeks,\n",
        "          'model': trainer,\n",
        "          'train_size': len(y),\n",
        "          'best_boost_iteration': trainer.model.best_iteration_}"
      ]
    },
    {
      "cell_type": "code",
      "execution_count": 7,
      "id": "nuLXY21nDWPY",
      "metadata": {
        "colab": {
          "base_uri": "https://localhost:8080/"
        },
        "id": "nuLXY21nDWPY",
        "outputId": "6b811af4-5608-4825-995d-aac8560afa9a"
      },
      "outputs": [
        {
          "data": {
            "text/plain": [
              "{'filename': ['https://s3.sa-east-1.amazonaws.com/ckan.saude.gov.br/SRAG/2022/INFLUD22-03-04-2023.csv',\n",
              "  'https://s3.sa-east-1.amazonaws.com/ckan.saude.gov.br/SRAG/2023/INFLUD23-15-07-2024.csv',\n",
              "  'https://s3.sa-east-1.amazonaws.com/ckan.saude.gov.br/SRAG/2024/INFLUD24-15-07-2024.csv'],\n",
              " 'weeks': [array([202201, 202202, 202203, 202204, 202205, 202206, 202207, 202208,\n",
              "         202209, 202210, 202211, 202212, 202213, 202214, 202215, 202216,\n",
              "         202217, 202218, 202219, 202220, 202221, 202222, 202223, 202224,\n",
              "         202225, 202226, 202227, 202228, 202229, 202230, 202231, 202232,\n",
              "         202233, 202234, 202235, 202236, 202237, 202238, 202239, 202240,\n",
              "         202241, 202242, 202243, 202244, 202245, 202246, 202247, 202248,\n",
              "         202249, 202250, 202251, 202252]),\n",
              "  array([202301, 202302, 202303, 202304, 202305, 202306, 202307, 202308,\n",
              "         202309, 202310, 202311, 202312, 202313, 202314, 202315, 202316,\n",
              "         202317, 202318, 202319, 202320, 202321, 202322, 202323, 202324,\n",
              "         202325, 202326, 202327, 202328, 202329, 202330, 202331, 202332,\n",
              "         202333, 202334, 202335, 202336, 202337, 202338, 202339, 202340,\n",
              "         202341, 202342, 202343, 202344, 202345, 202346, 202347, 202348,\n",
              "         202349, 202350, 202351, 202352]),\n",
              "  array([202353, 202400, 202401, 202402, 202403, 202404, 202405, 202406,\n",
              "         202407, 202408, 202409, 202410, 202411, 202412, 202413, 202414,\n",
              "         202415, 202416, 202417, 202418, 202419, 202420, 202421, 202422,\n",
              "         202423, 202424, 202425, 202426, 202427])],\n",
              " 'train': [{'lag': 0,\n",
              "   'year': 2023,\n",
              "   'week': 14,\n",
              "   'start_day_week': datetime.datetime(2023, 4, 2, 0, 0)},\n",
              "  {'lag': 0,\n",
              "   'year': 2024,\n",
              "   'week': 28,\n",
              "   'start_day_week': datetime.datetime(2024, 7, 14, 0, 0)},\n",
              "  {'lag': 0,\n",
              "   'year': 2024,\n",
              "   'week': 28,\n",
              "   'start_day_week': datetime.datetime(2024, 7, 14, 0, 0)}],\n",
              " 'virus': array(['ADENO', 'BOCA', 'FLUA', 'FLUB', 'METAP', 'OUTROS', 'PARA1',\n",
              "        'PARA2', 'PARA3', 'PARA4', 'RINO', 'SARS2', 'VSR'], dtype=object),\n",
              " 'df_training_weeks':     DT_SIN_PRI_SEM  ANO_SIN_PRI  SEM_SIN_PRI  ANO_SEM_SIN_PRI\n",
              " 0       2022-12-25         2022           52           202252\n",
              " 1       2022-12-18         2022           51           202251\n",
              " 2       2022-12-11         2022           50           202250\n",
              " 3       2022-12-04         2022           49           202249\n",
              " 4       2022-11-27         2022           48           202248\n",
              " ..             ...          ...          ...              ...\n",
              " 128     2024-01-21         2024            3           202403\n",
              " 129     2024-01-14         2024            2           202402\n",
              " 130     2024-01-07         2024            1           202401\n",
              " 131     2023-12-31         2024            0           202400\n",
              " 132     2023-12-31         2023           53           202353\n",
              " \n",
              " [133 rows x 4 columns],\n",
              " 'model': <pysrag.model._gbm_trainer.GBMTrainer at 0x21a00d0fd30>,\n",
              " 'train_size': 415478,\n",
              " 'best_boost_iteration': 1404}"
            ]
          },
          "execution_count": 7,
          "metadata": {},
          "output_type": "execute_result"
        }
      ],
      "source": [
        "model"
      ]
    },
    {
      "cell_type": "code",
      "execution_count": 8,
      "id": "M-7Yq3ixJJzb",
      "metadata": {
        "colab": {
          "base_uri": "https://localhost:8080/"
        },
        "id": "M-7Yq3ixJJzb",
        "outputId": "ebcf16ac-b841-436a-f898-87475b69c693"
      },
      "outputs": [
        {
          "data": {
            "text/plain": [
              "['./dict_model']"
            ]
          },
          "execution_count": 8,
          "metadata": {},
          "output_type": "execute_result"
        }
      ],
      "source": [
        "dump(model,'./dict_model')"
      ]
    },
    {
      "cell_type": "code",
      "execution_count": 9,
      "id": "Wyd3Bu8HIM27",
      "metadata": {
        "id": "Wyd3Bu8HIM27"
      },
      "outputs": [],
      "source": [
        "# Exclude recent lags\n",
        "excl_weeks = []\n",
        "for lag in [0,1]:\n",
        "  dict_lag = srag.get_start_day_of_week(lag)\n",
        "  excl_weeks.append( dict_lag['year']*100 + dict_lag['week'] )\n",
        "\n",
        "ind_excl_weeks = df_training_weeks['ANO_SEM_SIN_PRI'].isin(excl_weeks)\n",
        "\n",
        "df_training_weeks_app = df_training_weeks[~ind_excl_weeks].query('SEM_SIN_PRI > 0')\n",
        "\n",
        "df_training_weeks_app.to_csv('./df_semanas.csv',index=False)"
      ]
    },
    {
      "cell_type": "code",
      "execution_count": 10,
      "id": "pSbauB6OTKyt",
      "metadata": {
        "id": "pSbauB6OTKyt"
      },
      "outputs": [],
      "source": [
        "SRAG.load_common_data().to_csv('./df_municipios.csv',index=False)"
      ]
    },
    {
      "cell_type": "code",
      "execution_count": 11,
      "id": "RxeJFEabB4yE",
      "metadata": {
        "colab": {
          "base_uri": "https://localhost:8080/"
        },
        "id": "RxeJFEabB4yE",
        "outputId": "2eef7d87-f7be-47cc-e89e-6708e179483c"
      },
      "outputs": [
        {
          "data": {
            "text/plain": [
              "<lightgbm.basic.Booster at 0x21a00d17d30>"
            ]
          },
          "execution_count": 11,
          "metadata": {},
          "output_type": "execute_result"
        }
      ],
      "source": [
        "feature_name = model['model'].model.feature_name_\n",
        "pd.Series(feature_name,name='feature_name').to_csv('./feature_name.csv',index=False)\n",
        "\n",
        "classes = model['virus']\n",
        "pd.Series(classes,name='virus').to_csv('./classes.csv',index=False)\n",
        "\n",
        "model['model'].model.booster_.save_model('./booster.txt')"
      ]
    }
  ],
  "metadata": {
    "colab": {
      "provenance": [],
      "toc_visible": true
    },
    "hide_input": false,
    "kernelspec": {
      "display_name": "Python 3",
      "name": "python3"
    },
    "language_info": {
      "codemirror_mode": {
        "name": "ipython",
        "version": 3
      },
      "file_extension": ".py",
      "mimetype": "text/x-python",
      "name": "python",
      "nbconvert_exporter": "python",
      "pygments_lexer": "ipython3",
      "version": "3.9.5"
    }
  },
  "nbformat": 4,
  "nbformat_minor": 5
}
